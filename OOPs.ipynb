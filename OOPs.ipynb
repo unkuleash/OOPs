{
  "nbformat": 4,
  "nbformat_minor": 0,
  "metadata": {
    "colab": {
      "provenance": []
    },
    "kernelspec": {
      "name": "python3",
      "display_name": "Python 3"
    },
    "language_info": {
      "name": "python"
    }
  },
  "cells": [
    {
      "cell_type": "markdown",
      "source": [
        "**Theory Questions**"
      ],
      "metadata": {
        "id": "Di5-iRtfmPvb"
      }
    },
    {
      "cell_type": "markdown",
      "source": [
        "1.  What is Object-Oriented Programming (OOP)?"
      ],
      "metadata": {
        "id": "Mup14KFSWdg8"
      }
    },
    {
      "cell_type": "markdown",
      "source": [
        "=> Object-Oriented Programming (OOP) is a programming paradigm that organizes software design around objects, which are instances of classes. These objects encapsulate both data (attributes) and methods (functions) that operate on the data."
      ],
      "metadata": {
        "id": "CRHqbumdXAzN"
      }
    },
    {
      "cell_type": "markdown",
      "source": [
        "2. What is a class in OOP?"
      ],
      "metadata": {
        "id": "ugLPUT8GXEc3"
      }
    },
    {
      "cell_type": "markdown",
      "source": [
        "=> Class is like a blue print or template for creating objects."
      ],
      "metadata": {
        "id": "dJFZ8KgJXJZm"
      }
    },
    {
      "cell_type": "markdown",
      "source": [
        "3. What is an object in OOP?"
      ],
      "metadata": {
        "id": "x6QsJ0gMXYRY"
      }
    },
    {
      "cell_type": "markdown",
      "source": [
        "=> Object is real thing created using class . Object is an instance of class and itis collection of attributes and methods."
      ],
      "metadata": {
        "id": "_mk_yfYfXdIh"
      }
    },
    {
      "cell_type": "markdown",
      "source": [
        "4. What is the difference between abstraction and encapsulation?"
      ],
      "metadata": {
        "id": "2BVhK-RWYFrs"
      }
    },
    {
      "cell_type": "markdown",
      "source": [
        "=> 1.Abstraction\n",
        "Definition: Abstraction focuses on hiding the implementation details and showing only the essential features of an object or system.\n",
        "Purpose: It simplifies complex systems by exposing only what is necessary to the user.\n",
        "Example: Using a method like car.start_engine() without knowing the internal mechanics of how the engine starts.\n",
        "Implementation: Achieved using abstract classes and interfaces (via the abc module in Python).\n",
        "\n",
        "2.Encapsulation\n",
        "Definition: Encapsulation is the process of bundling data (attributes) and methods (functions) that operate on the data into a single unit (class). It also restricts direct access to some components.\n",
        "Purpose: It protects the data from unauthorized access and ensures controlled interaction.\n",
        "Example: Using private variables (__variable) to restrict access and providing getter/setter methods for controlled access.\n",
        "Implementation: Achieved using access modifiers like private (__) and protected (_).\n",
        "\n",
        "\n"
      ],
      "metadata": {
        "id": "ft7WDBYPYKoR"
      }
    },
    {
      "cell_type": "markdown",
      "source": [
        "5. What are dunder methods in Python?"
      ],
      "metadata": {
        "id": "bdOq0_yDZDVC"
      }
    },
    {
      "cell_type": "markdown",
      "source": [
        "=> Dunder methods, short for \"double underscore\" methods, are special methods in Python that start and end with double underscores __init __. They are also known as magic methods or special methods. These methods are predefined by Python and allow you to customize the behavior of your classes, enabling features like operator overloading, object initialization, and more.\n",
        "\n"
      ],
      "metadata": {
        "id": "wCLw5FCdZSVP"
      }
    },
    {
      "cell_type": "markdown",
      "source": [
        "6. Explain the concept of inheritance in OOP."
      ],
      "metadata": {
        "id": "98tkBmIUaIeF"
      }
    },
    {
      "cell_type": "markdown",
      "source": [
        "=> Inheritance is a core concept in Object-Oriented Programming (OOP) that allows one class (called the child class or derived class) to inherit attributes and methods from another class (called the parent class or base class). This promotes code reuse, modularity, and a hierarchical class structure.Parent Class: The class whose properties and methods are inherited.\n",
        "\n",
        "Child Class: The class that inherits from the parent class and can have its own additional properties or methods.\n",
        "\n",
        "Syntax:\n",
        "class Parent:\n",
        "    # Parent class code\n",
        "\n",
        "class Child(Parent):\n",
        "    # Child class code\n",
        "Types of Inheritance:\n",
        "\n",
        "Single Inheritance: A child class inherits from one parent class.\n",
        "Multiple Inheritance: A child class inherits from multiple parent classes.\n",
        "Multilevel Inheritance: A class inherits from a child class, forming a chain.\n",
        "Hierarchical Inheritance: Multiple child classes inherit from a single parent class.\n",
        "Hybrid Inheritance: A combination of two or more types of inheritance."
      ],
      "metadata": {
        "id": "uiUyfS_8aewS"
      }
    },
    {
      "cell_type": "markdown",
      "source": [
        "7. What is polymorphism in OOP?"
      ],
      "metadata": {
        "id": "P0f3gPOhblqT"
      }
    },
    {
      "cell_type": "markdown",
      "source": [
        "=> Polymorphism in Object-Oriented Programming (OOP) in Python refers to the ability of a single function, method, or operator to behave differently based on the object or context it is applied to. It allows objects of different classes to be treated as objects of a common superclass, enabling flexibility and reusability in code."
      ],
      "metadata": {
        "id": "_ECO2rldbpJo"
      }
    },
    {
      "cell_type": "markdown",
      "source": [
        "8.  How is encapsulation achieved in Python?"
      ],
      "metadata": {
        "id": "kUyYIlgjcBmY"
      }
    },
    {
      "cell_type": "markdown",
      "source": [
        "=> Encapsulation in Python is achieved by restricting access to certain parts of an object and exposing only what is necessary. This is done using access modifiers: public, protected, and private. Here's how it works\n",
        " 1. Public Members:\n",
        "These are accessible from anywhere, both inside and outside the class.\n",
        "2. Protected Members:\n",
        "Indicated by a single underscore (_), these are intended to be accessed only within the class and its subclasses.\n",
        "3. Private Members:\n",
        "Indicated by a double underscore (__), these are not directly accessible outside the class. Python uses name mangling to make them harder to access.\n",
        "\n"
      ],
      "metadata": {
        "id": "VwrChhTIcGUl"
      }
    },
    {
      "cell_type": "markdown",
      "source": [
        "9.  What is a constructor in Python?"
      ],
      "metadata": {
        "id": "Isk3emdEc6J4"
      }
    },
    {
      "cell_type": "markdown",
      "source": [
        "=> A constructor in Python is a special method that is automatically called when an instance (object) of a class is created. The primary purpose of a constructor is to initialize the attributes of the object. In Python, the constructor method is defined using the __init__() method."
      ],
      "metadata": {
        "id": "SXzsitUPdJbT"
      }
    },
    {
      "cell_type": "markdown",
      "source": [
        "10.  What are class and static methods in Python?"
      ],
      "metadata": {
        "id": "RraGCS5LdY3S"
      }
    },
    {
      "cell_type": "markdown",
      "source": [
        "=> Class Methods\n",
        "Definition: A method that operates on the class itself rather than an instance of the class.\n",
        "How to Define: Use the @classmethod decorator.\n",
        "First Parameter: Takes cls as the first parameter, which refers to the class.\n",
        "Use Case: Useful for accessing or modifying class-level data or creating alternative constructors.\n",
        "\n",
        "Static Methods\n",
        "Definition: A method that does not operate on the class or its instances. It behaves like a regular function but is logically grouped within the class.\n",
        "How to Define: Use the @staticmethod decorator.\n",
        "First Parameter: Does not take self or cls as a parameter.\n",
        "Use Case: Useful for utility functions that are related to the class but don't need access to class or instance data."
      ],
      "metadata": {
        "id": "yEWYsPCTdc6l"
      }
    },
    {
      "cell_type": "markdown",
      "source": [
        "11.  What is method overloading in Python?"
      ],
      "metadata": {
        "id": "LItGEc6HdycU"
      }
    },
    {
      "cell_type": "markdown",
      "source": [
        "=> In Python, method overloading refers to the ability to define a method in such a way that it can handle different numbers or types of arguments. However, Python does not support traditional method overloading ,  where multiple methods with the same name but different parameter lists can coexist.Python achieves a similar effect by using default arguments, variable-length arguments ***args and ***kwargs, or type checking within a single method."
      ],
      "metadata": {
        "id": "Md3BZXiqd4XL"
      }
    },
    {
      "cell_type": "markdown",
      "source": [
        "12.  What is method overriding in OOP?"
      ],
      "metadata": {
        "id": "IpqyawKFe59g"
      }
    },
    {
      "cell_type": "markdown",
      "source": [
        "=> In Python, method overriding is a feature of object-oriented programming (OOP) that allows a subclass (child class) to provide a specific implementation of a method that is already defined in its superclass (parent class). This enables the child class to modify or extend the behavior of the parent class's method."
      ],
      "metadata": {
        "id": "0Dhh9IqVfVCq"
      }
    },
    {
      "cell_type": "markdown",
      "source": [
        "13.  What is a property decorator in Python?"
      ],
      "metadata": {
        "id": "chpcYvwqfbc9"
      }
    },
    {
      "cell_type": "markdown",
      "source": [
        "=>The @property decorator in Python is a built-in feature that allows you to define methods in a class that can be accessed like attributes. It is primarily used to implement getter, setter, and deleter functionality for class attributes in a clean and Pythonic way, without directly exposing internal variables."
      ],
      "metadata": {
        "id": "F-Q2YSjwfhWI"
      }
    },
    {
      "cell_type": "markdown",
      "source": [
        "14. Why is polymorphism important in OOP?"
      ],
      "metadata": {
        "id": "39J6SukRf12_"
      }
    },
    {
      "cell_type": "markdown",
      "source": [
        "=> 1. Code Flexibility\n",
        "Polymorphism allows the same method, function, or operator to behave differently depending on the object it is working with. This means you can write more general and adaptable code that works seamlessly with different types of objects.\n",
        "2. Enhanced Reusability\n",
        "By using polymorphism, you can define methods in a base class and override them in derived classes. This ensures that the same interface can be reused across multiple classes, reducing redundancy and improving efficiency.\n",
        "3. Improved Maintainability\n",
        "Polymorphism simplifies code maintenance by allowing you to make changes in one place (e.g., a base class) without affecting the rest of the code. This makes it easier to extend or modify functionality without breaking existing implementations.\n",
        "4. Supports Dynamic Behavior\n",
        "It enables dynamic method resolution at runtime, meaning the appropriate method is called based on the object's type. This is particularly useful in scenarios like designing plugins or frameworks where behavior can vary."
      ],
      "metadata": {
        "id": "b4q3Jt8GgIv0"
      }
    },
    {
      "cell_type": "markdown",
      "source": [
        "15.  What is an abstract class in Python?"
      ],
      "metadata": {
        "id": "gSg5yU--gPNp"
      }
    },
    {
      "cell_type": "markdown",
      "source": [
        "=> An abstract class in Python is a class that serves as a blueprint for other classes but cannot be instantiated directly. It is used in object-oriented programming (OOP) to define methods that must be implemented by its subclasses, ensuring a consistent interface across related classes."
      ],
      "metadata": {
        "id": "gZfNkIRWgWp3"
      }
    },
    {
      "cell_type": "markdown",
      "source": [
        "16. What are the advantages of OOP?"
      ],
      "metadata": {
        "id": "zK9xnOOJgjl1"
      }
    },
    {
      "cell_type": "markdown",
      "source": [
        "=> Object-Oriented Programming (OOP) in Python offers several advantages that make it a powerful paradigm for software development:\n",
        "\n",
        "1. Modularity and Reusability:\n",
        "Code is organized into classes and objects, making it modular.\n",
        "Classes can be reused across different projects, reducing redundancy and saving development time.\n",
        "2. Ease of Maintenance:\n",
        "OOP promotes clean and organized code, making it easier to debug, update, and maintain.\n",
        "Changes in one part of the program are less likely to affect others due to encapsulation.\n",
        "3. Scalability:\n",
        "OOP allows for the creation of complex systems by breaking them into smaller, manageable objects.\n",
        "It supports the development of both small and large-scale applications seamlessly.\n",
        "4. Encapsulation:\n",
        "Data and methods are bundled together, protecting the internal state of objects.\n",
        "This ensures better control over how data is accessed or modified.\n",
        "5. Inheritance:\n",
        "Classes can inherit properties and methods from other classes, promoting code reuse.\n",
        "It simplifies the creation of new classes by extending existing ones.\n",
        "6. Polymorphism:\n",
        "Objects can take on multiple forms, allowing for flexibility in code.\n",
        "It enables the same interface to be used for different underlying data types.\n",
        "7. Real-World Modeling:\n",
        "OOP mirrors real-world entities, making it intuitive for developers to design systems.\n",
        "Objects represent entities with attributes (data) and behaviors (methods).\n",
        "8. Improved Productivity:\n",
        "OOP simplifies complex problems, allowing developers to focus on solving smaller, manageable parts.\n",
        "This leads to faster development and better quality software.\n",
        "9. Flexibility and Extensibility:\n",
        "OOP makes it easier to add new features or modify existing ones without disrupting the entire system.\n",
        "It supports dynamic behavior through method overriding and polymorphism.\n"
      ],
      "metadata": {
        "id": "QgYI6-sDgoHi"
      }
    },
    {
      "cell_type": "markdown",
      "source": [
        "17. What is the difference between a class variable and an instance variable?"
      ],
      "metadata": {
        "id": "z-WeZUIEhOcz"
      }
    },
    {
      "cell_type": "markdown",
      "source": [
        "=> Class Variable\n",
        "Definition: A variable that is shared across all instances of a class.\n",
        "Scope: Defined within the class but outside any instance methods.\n",
        "Behavior: Changes to a class variable affect all instances of the class.\n",
        "Usage: Used for data that should be the same for every instance of the class.\n",
        "Instance Variable\n",
        "Definition: A variable that is unique to each instance of a class.\n",
        "Scope: Defined within instance methods, typically using self.\n",
        "Behavior: Changes to an instance variable only affect that specific instance.\n",
        "Usage: Used for data that is unique to each object."
      ],
      "metadata": {
        "id": "4mlFGZ-ZhUSr"
      }
    },
    {
      "cell_type": "markdown",
      "source": [
        "18.  What is multiple inheritance in Python?"
      ],
      "metadata": {
        "id": "ki3GNxKLhrmO"
      }
    },
    {
      "cell_type": "markdown",
      "source": [
        "=> In Python, multiple inheritance is a feature where a class can inherit attributes and methods from more than one parent class. This allows a child class to combine and utilize the functionality of multiple parent classes. A child class is derived from two or more parent classes."
      ],
      "metadata": {
        "id": "3u6Jl7X2hygA"
      }
    },
    {
      "cell_type": "markdown",
      "source": [
        "19.  Explain the purpose of __str__ and ‘__repr__’ ‘ methods in Python"
      ],
      "metadata": {
        "id": "KLmacLN5iIzm"
      }
    },
    {
      "cell_type": "markdown",
      "source": [
        "=> In Python, the __str__ and __repr__ methods are special methods used to define string representations of objects. While they may seem similar, they serve distinct purposes:\n",
        "1. __str__ Method\n",
        "Purpose: Provides a user-friendly or informal string representation of an object.\n",
        "Usage: Called by the str() function or when the object is printed using print().\n",
        "Goal: To return a string that is readable and informative for end-users.\n",
        "\n",
        "2. __repr__ Method\n",
        "Purpose: Provides a developer-friendly or formal string representation of an object.\n",
        "Usage: Called by the repr() function or when inspecting the object in an interactive shell.\n",
        "Goal: To return a string that can recreate the object (if possible) or provide detailed debugging information.\n"
      ],
      "metadata": {
        "id": "fw99mmULiOF_"
      }
    },
    {
      "cell_type": "markdown",
      "source": [
        "20.  What is the significance of the ‘super()’ function in Python?"
      ],
      "metadata": {
        "id": "uxEPt2idjGGE"
      }
    },
    {
      "cell_type": "markdown",
      "source": [
        "=> The super() function in Python is a powerful tool in object-oriented programming, particularly when working with inheritance. Here's why it is significant:\n",
        "\n",
        "1. Access Parent Class Methods and Properties\n",
        "super() allows a subclass to call methods or access properties of its parent class without directly referring to the parent class name. This makes the code more maintainable and flexible.\n",
        "2. Avoid Redundancy\n",
        "It helps avoid duplicating code by reusing the functionality of the parent class. For example, you can extend or modify the behavior of a parent class method in the subclass.\n",
        "3. Support for Multiple Inheritance\n",
        "In cases of multiple inheritance, super() ensures that the correct method resolution order (MRO) is followed. This prevents issues like calling the same method multiple times or skipping a class in the hierarchy."
      ],
      "metadata": {
        "id": "773hGOHnjQAv"
      }
    },
    {
      "cell_type": "markdown",
      "source": [
        "21.  What is the significance of the __del__ method in Python?"
      ],
      "metadata": {
        "id": "Mii5teDEjcrB"
      }
    },
    {
      "cell_type": "markdown",
      "source": [
        "=> The __del__ method in Python, also known as the destructor, is a special method that is called when an object is about to be destroyed. Its primary purpose is to allow you to define cleanup actions, such as releasing resources or closing connections, before the object is garbage collected."
      ],
      "metadata": {
        "id": "bKT2pvVWjiVy"
      }
    },
    {
      "cell_type": "markdown",
      "source": [
        "22.  What is the difference between @staticmethod and @classmethod in Python?"
      ],
      "metadata": {
        "id": "b5m1zRSujuy-"
      }
    },
    {
      "cell_type": "markdown",
      "source": [
        "=> In Python, both @staticmethod and @classmethod are decorators used to define methods in a class, but they serve different purposes and have distinct behaviors:\n",
        "\n",
        "1. @staticmethod\n",
        "Definition: A static method does not depend on the class or instance it is called on. It behaves like a regular function but resides within the class's namespace.\n",
        "2. . @classmethod\n",
        "Definition: A class method takes the class itself (cls) as its first parameter, allowing it to access or modify class-level attributes.\n"
      ],
      "metadata": {
        "id": "HUXSIaNwkGYW"
      }
    },
    {
      "cell_type": "markdown",
      "source": [
        "23.  How does polymorphism work in Python with inheritance?"
      ],
      "metadata": {
        "id": "LT_1xbDLkOXA"
      }
    },
    {
      "cell_type": "markdown",
      "source": [
        "=> Polymorphism in Python, especially when combined with inheritance, allows objects of different classes to be treated as objects of a common superclass. This is achieved by overriding methods in child classes, enabling them to provide specific implementations while maintaining a consistent interface.\n",
        "1. Method Overriding\n",
        "A child class can override a method from its parent class. When the method is called on an object, the version of the method corresponding to the object's class is executed.\n",
        "2. . Using Polymorphism with Functions\n",
        "A function can accept objects of different classes and call their methods, relying on polymorphism to execute the appropriate method.\n",
        "3. Polymorphism with Abstract Classes\n",
        "Using the abc module, you can define abstract base classes to enforce method implementation in child classes.\n"
      ],
      "metadata": {
        "id": "n1JxV0LbkVE7"
      }
    },
    {
      "cell_type": "markdown",
      "source": [
        "24. What is method chaining in Python OOP?"
      ],
      "metadata": {
        "id": "_p4S36qWlBgC"
      }
    },
    {
      "cell_type": "markdown",
      "source": [
        "=> Method chaining in Python Object-Oriented Programming (OOP) is a technique where multiple methods are called on the same object in a single statement. This is achieved by having each method return the object itself (usually using return self). It allows for cleaner, more concise, and readable code."
      ],
      "metadata": {
        "id": "liwENu3mlH7O"
      }
    },
    {
      "cell_type": "markdown",
      "source": [
        "25.  What is the purpose of the __call__ method in Python?"
      ],
      "metadata": {
        "id": "iTR6lgLDlfOx"
      }
    },
    {
      "cell_type": "markdown",
      "source": [
        "=>The __call__ method in Python is a special or \"magic\" method that allows an instance of a class to be called as if it were a function. When you define the __call__ method in a class, you can use the class's objects like callable functions.\n",
        "\n",
        "Purpose of __call__:\n",
        "Callable Instances: It enables instances of a class to behave like functions, making them callable using parentheses ().\n",
        "Custom Behavior: You can define custom behavior that gets executed when the object is called.\n",
        "Simplifies Code: It can make code more intuitive and concise, especially when the object needs to encapsulate some functionality."
      ],
      "metadata": {
        "id": "DExpov23lvjH"
      }
    },
    {
      "cell_type": "markdown",
      "source": [
        "**Practical Questions**"
      ],
      "metadata": {
        "id": "s11wXI0amILk"
      }
    },
    {
      "cell_type": "markdown",
      "source": [
        " 1. Create a parent class Animal with a method speak() that prints a generic message. Create a child class Dog\n",
        "that overrides the speak() method to print \"Bark!\"."
      ],
      "metadata": {
        "id": "j4CdlxrwmZv8"
      }
    },
    {
      "cell_type": "code",
      "source": [
        "class Animals:\n",
        "  def speak(self):\n",
        "    print(\"animal makes sound\")\n",
        "\n",
        "class Dog (Animals):\n",
        "  def speak(self):\n",
        "    print(\"Bark!\")\n"
      ],
      "metadata": {
        "id": "HDTqHHmPmmb4"
      },
      "execution_count": null,
      "outputs": []
    },
    {
      "cell_type": "code",
      "source": [
        "d= Dog()"
      ],
      "metadata": {
        "id": "WSq0CbQno5iI"
      },
      "execution_count": null,
      "outputs": []
    },
    {
      "cell_type": "code",
      "source": [
        "d.speak()"
      ],
      "metadata": {
        "colab": {
          "base_uri": "https://localhost:8080/"
        },
        "id": "B5FEu_fNo-Ot",
        "outputId": "057d9f32-b568-409e-a7cb-e0d6fc6c2541"
      },
      "execution_count": null,
      "outputs": [
        {
          "output_type": "stream",
          "name": "stdout",
          "text": [
            "Bark!\n"
          ]
        }
      ]
    },
    {
      "cell_type": "markdown",
      "source": [
        "2.  Write a program to create an abstract class Shape with a method area(). Derive classes Circle and Rectangle\n",
        "from it and implement the area() method in both"
      ],
      "metadata": {
        "id": "_U6lKgZYpV2r"
      }
    },
    {
      "cell_type": "code",
      "source": [
        "from abc import ABC, abstractmethod\n",
        "import math\n",
        "\n",
        "class Shape(ABC):\n",
        "    @abstractmethod\n",
        "    def area(self):\n",
        "        pass\n",
        "\n",
        "class Circle(Shape):\n",
        "    def __init__(self, radius):\n",
        "        self.radius = radius\n",
        "\n",
        "    def area(self):\n",
        "        return math.pi * self.radius ** 2\n",
        "\n",
        "class Rectangle(Shape):\n",
        "    def __init__(self, width, height):\n",
        "        self.width = width\n",
        "        self.height = height\n",
        "\n",
        "    def area(self):\n",
        "        return self.width * self.height\n",
        "\n",
        "# Example\n",
        "shapes = [\n",
        "    Circle(7),\n",
        "    Rectangle(4, 5)\n",
        "]\n",
        "\n",
        "for shape in shapes:\n",
        "    print(f\"{type(shape).__name__} area: {shape.area():.2f}\")\n",
        "\n",
        "\n",
        "\n"
      ],
      "metadata": {
        "colab": {
          "base_uri": "https://localhost:8080/"
        },
        "id": "P9nn0m5MpeUK",
        "outputId": "e1e8a506-f7b6-4cf9-a8d7-19511b349849"
      },
      "execution_count": null,
      "outputs": [
        {
          "output_type": "stream",
          "name": "stdout",
          "text": [
            "Circle area: 153.94\n",
            "Rectangle area: 20.00\n"
          ]
        }
      ]
    },
    {
      "cell_type": "markdown",
      "source": [
        " 3. Implement a multi-level inheritance scenario where a class Vehicle has an attribute type. Derive a class Car\n",
        "and further derive a class ElectricCar that adds a battery attribute"
      ],
      "metadata": {
        "id": "wtztEYr3zNID"
      }
    },
    {
      "cell_type": "code",
      "source": [
        "class Vehicle:\n",
        "  def vehicle_info(self):\n",
        "    print(\"Inside the vehicle class\")\n",
        "\n",
        "class Car(Vehicle):\n",
        "  def car_info(self):\n",
        "    print(\"Inside car class\")\n",
        "\n",
        "class ElectricCar(Car):\n",
        "  def electriccar_info(self):\n",
        "    print(\"Battery attribute\")"
      ],
      "metadata": {
        "id": "1_dB18A3zUxW"
      },
      "execution_count": null,
      "outputs": []
    },
    {
      "cell_type": "code",
      "source": [
        "O= ElectricCar()"
      ],
      "metadata": {
        "id": "OI6vvMF207_a"
      },
      "execution_count": null,
      "outputs": []
    },
    {
      "cell_type": "code",
      "source": [
        "O.electriccar_info()"
      ],
      "metadata": {
        "colab": {
          "base_uri": "https://localhost:8080/"
        },
        "id": "ewkAbiBc1G-U",
        "outputId": "f7ebf5d3-80eb-4402-c2da-42b40a02119e"
      },
      "execution_count": null,
      "outputs": [
        {
          "output_type": "stream",
          "name": "stdout",
          "text": [
            "Battery attribute\n"
          ]
        }
      ]
    },
    {
      "cell_type": "markdown",
      "source": [
        "4.  Demonstrate polymorphism by creating a base class Bird with a method fly(). Create two derived classes\n",
        "Sparrow and Penguin that override the fly() method."
      ],
      "metadata": {
        "id": "St-pqgbT1UHv"
      }
    },
    {
      "cell_type": "code",
      "source": [
        "class Bird:\n",
        "  def fly(self):\n",
        "    print(\"Birds can fly\")\n",
        "\n",
        "class Sparrow(Bird):\n",
        "  def fly(self):\n",
        "    print(\"Sparrow flies high in the sky\")\n",
        "\n",
        "class Penguin(Bird):\n",
        "  def fly(self):\n",
        "    print(\"Penguins can't fly, but they swim really well\")"
      ],
      "metadata": {
        "id": "tuY9h4bU13T_"
      },
      "execution_count": null,
      "outputs": []
    },
    {
      "cell_type": "code",
      "source": [
        "Penguin().fly()"
      ],
      "metadata": {
        "colab": {
          "base_uri": "https://localhost:8080/"
        },
        "id": "sYDcbBjF3u_4",
        "outputId": "746ec280-93a4-4f7c-eeb1-4a350fecd7f0"
      },
      "execution_count": null,
      "outputs": [
        {
          "output_type": "stream",
          "name": "stdout",
          "text": [
            "Penguins can't fly, but they swim really well\n"
          ]
        }
      ]
    },
    {
      "cell_type": "code",
      "source": [
        "Sparrow().fly()"
      ],
      "metadata": {
        "colab": {
          "base_uri": "https://localhost:8080/"
        },
        "id": "g0av4upe3g7J",
        "outputId": "5760eda9-96f7-44d7-dc48-e4b1d8b62d7c"
      },
      "execution_count": null,
      "outputs": [
        {
          "output_type": "stream",
          "name": "stdout",
          "text": [
            "Sparrow flies high in the sky\n"
          ]
        }
      ]
    },
    {
      "cell_type": "markdown",
      "source": [
        "5. Write a program to demonstrate encapsulation by creating a class BankAccount with private attributes\n",
        "balance and methods to deposit, withdraw, and check balance."
      ],
      "metadata": {
        "id": "OTaiZUm0rOt5"
      }
    },
    {
      "cell_type": "code",
      "source": [
        "class BankAccount:\n",
        "  def __init__(self, initial_balance=0):\n",
        "    self.__balance = initial_balance\n",
        "\n",
        "  def Deposit(self, amount):\n",
        "    if amount > 0:\n",
        "      self.__balance += amount\n",
        "      print(f\"Deposited {amount} Amount in your Acccount\" )\n",
        "    else:\n",
        "      print(\"Deposit amount must be positive\")\n",
        "\n",
        "  def Withdraw(self, amount):\n",
        "    if amount > 0:\n",
        "       if amount <= self.__balance:\n",
        "        self.__balance -= amount\n",
        "        print(f\"Withdraw {amount} from your Account\")\n",
        "       else:\n",
        "        print(\"Insufficient Balance\")\n",
        "\n",
        "    else:\n",
        "            print(\"Withdrawal amount must be positive.\")\n",
        "\n",
        "\n",
        "  def Check_balance(self):\n",
        "    print(f\"Current Balance is {self.__balance}\")"
      ],
      "metadata": {
        "id": "Rs7E_6GEr0TQ"
      },
      "execution_count": 18,
      "outputs": []
    },
    {
      "cell_type": "code",
      "source": [
        "account = BankAccount(1000)"
      ],
      "metadata": {
        "id": "RUK4XRjox8r_"
      },
      "execution_count": 19,
      "outputs": []
    },
    {
      "cell_type": "code",
      "source": [
        "account.Check_balance()"
      ],
      "metadata": {
        "colab": {
          "base_uri": "https://localhost:8080/"
        },
        "id": "DRZPwDsvzF3k",
        "outputId": "145746ab-b268-45bf-d793-b3978d59dc60"
      },
      "execution_count": 20,
      "outputs": [
        {
          "output_type": "stream",
          "name": "stdout",
          "text": [
            "Current Balance is 1000\n"
          ]
        }
      ]
    },
    {
      "cell_type": "code",
      "source": [
        "account.Deposit(1000)"
      ],
      "metadata": {
        "colab": {
          "base_uri": "https://localhost:8080/"
        },
        "id": "P4qyZHbKzREp",
        "outputId": "0c621b0b-47cd-4423-fed8-9eab5052052b"
      },
      "execution_count": 21,
      "outputs": [
        {
          "output_type": "stream",
          "name": "stdout",
          "text": [
            "Deposited 1000 Amount in your Acccount\n"
          ]
        }
      ]
    },
    {
      "cell_type": "code",
      "source": [
        "account.Withdraw(500)"
      ],
      "metadata": {
        "colab": {
          "base_uri": "https://localhost:8080/"
        },
        "id": "QH3K0-hp1EKp",
        "outputId": "1eaf6e46-5cdd-4a87-9efb-480acad7f4db"
      },
      "execution_count": 22,
      "outputs": [
        {
          "output_type": "stream",
          "name": "stdout",
          "text": [
            "Withdraw 500 from your Account\n"
          ]
        }
      ]
    },
    {
      "cell_type": "code",
      "source": [
        "account.Withdraw(200)"
      ],
      "metadata": {
        "colab": {
          "base_uri": "https://localhost:8080/"
        },
        "id": "Lro-9mGB1L1y",
        "outputId": "f509c62b-7f42-422d-8090-7b0c102803d3"
      },
      "execution_count": 24,
      "outputs": [
        {
          "output_type": "stream",
          "name": "stdout",
          "text": [
            "Withdraw 200 from your Account\n"
          ]
        }
      ]
    },
    {
      "cell_type": "code",
      "source": [
        "account.Check_balance()"
      ],
      "metadata": {
        "colab": {
          "base_uri": "https://localhost:8080/"
        },
        "id": "7vdpHz271eHx",
        "outputId": "f608aec1-ca73-4b0b-bb2f-0f136b59086c"
      },
      "execution_count": 25,
      "outputs": [
        {
          "output_type": "stream",
          "name": "stdout",
          "text": [
            "Current Balance is 1300\n"
          ]
        }
      ]
    },
    {
      "cell_type": "markdown",
      "source": [
        " 6. Demonstrate runtime polymorphism using a method play() in a base class Instrument. Derive classes Guitar\n",
        "and Piano that implement their own version of play()"
      ],
      "metadata": {
        "id": "dQ92qy9w1n3Z"
      }
    },
    {
      "cell_type": "code",
      "source": [
        "class Instrument:\n",
        "  def play(self):\n",
        "      print(\"Instrument makes sound\")\n",
        "\n",
        "class Guitar(Instrument):\n",
        "   def play(self):\n",
        "      print(\"Guitar make silent sound\")\n",
        "\n",
        "class Piano(Instrument):\n",
        "    def play(self):\n",
        "        print(\"Piano makes loude sound\")\n",
        "\n",
        "def play(Instrument):\n",
        "  print(Instrument.play())\n",
        "\n",
        "\n"
      ],
      "metadata": {
        "id": "CCqcK_93CkRf"
      },
      "execution_count": 27,
      "outputs": []
    },
    {
      "cell_type": "code",
      "source": [
        "guitar= Guitar()\n",
        "play(guitar)"
      ],
      "metadata": {
        "colab": {
          "base_uri": "https://localhost:8080/"
        },
        "id": "ctDprbMoDAUU",
        "outputId": "90e5ce95-3393-4fa0-8b74-b0932b1dff16"
      },
      "execution_count": 33,
      "outputs": [
        {
          "output_type": "stream",
          "name": "stdout",
          "text": [
            "Guitar make silent sound\n",
            "None\n"
          ]
        }
      ]
    },
    {
      "cell_type": "code",
      "source": [
        "piano= Piano()\n",
        "play(piano)\n"
      ],
      "metadata": {
        "colab": {
          "base_uri": "https://localhost:8080/"
        },
        "id": "M1N8wE_IJQGS",
        "outputId": "4eeee5d8-0244-4a8e-a90f-ca968e1e3036"
      },
      "execution_count": 34,
      "outputs": [
        {
          "output_type": "stream",
          "name": "stdout",
          "text": [
            "Piano makes loude sound\n",
            "None\n"
          ]
        }
      ]
    },
    {
      "cell_type": "markdown",
      "source": [
        "7.  Create a class MathOperations with a class method add_numbers() to add two numbers and a static\n",
        "method subtract_numbers() to subtract two numbers"
      ],
      "metadata": {
        "id": "oFpkvUUmJpoI"
      }
    },
    {
      "cell_type": "code",
      "source": [
        "class MathOperatins:\n",
        "\n",
        " @classmethod\n",
        " def add_numbers(cls, a, b):\n",
        "   c = a+b\n",
        "   print(f\" addition is {c} \")\n",
        "@staticmethod\n",
        "def subtract_numbers(a,b):\n",
        "   d = a-b\n",
        "   print(f\"subtraction is {d}\")\n",
        "\n"
      ],
      "metadata": {
        "id": "NFCyBuf6KueZ"
      },
      "execution_count": 43,
      "outputs": []
    },
    {
      "cell_type": "code",
      "source": [
        "MathOperations.add_numbers(25, 15)"
      ],
      "metadata": {
        "colab": {
          "base_uri": "https://localhost:8080/"
        },
        "id": "iGCjsKZCPmhR",
        "outputId": "78e34432-fe51-4c73-b8e2-8a2ea4b37b86"
      },
      "execution_count": 41,
      "outputs": [
        {
          "output_type": "execute_result",
          "data": {
            "text/plain": [
              "40"
            ]
          },
          "metadata": {},
          "execution_count": 41
        }
      ]
    },
    {
      "cell_type": "code",
      "source": [
        "MathOperations.subtract_numbers(25, 15)"
      ],
      "metadata": {
        "colab": {
          "base_uri": "https://localhost:8080/"
        },
        "id": "UUrNrkr_P1by",
        "outputId": "508c8268-21a2-4414-dd8c-102b379efafa"
      },
      "execution_count": 42,
      "outputs": [
        {
          "output_type": "execute_result",
          "data": {
            "text/plain": [
              "10"
            ]
          },
          "metadata": {},
          "execution_count": 42
        }
      ]
    },
    {
      "cell_type": "markdown",
      "source": [
        "8. Implement a class Person with a class method to count the total number of persons created"
      ],
      "metadata": {
        "id": "J0RTFbJMQN24"
      }
    },
    {
      "cell_type": "code",
      "source": [
        "class Person:\n",
        "  number_of_person = 0\n",
        "  def __init__(self, name):\n",
        "    self.name = name\n",
        "    Person.number_of_person += 1\n",
        "\n",
        "    @classmethod\n",
        "    def get_count(cls):\n",
        "      return cls.number_of_person"
      ],
      "metadata": {
        "id": "TycuMiLmP3-J"
      },
      "execution_count": 61,
      "outputs": []
    },
    {
      "cell_type": "code",
      "source": [
        "P1= Person(\"Aishwarya\")\n",
        "P2= Person(\"Ojas\")\n",
        "P3= Person(\"Vinay\")\n"
      ],
      "metadata": {
        "id": "-zJlO2pdR-t-"
      },
      "execution_count": 62,
      "outputs": []
    },
    {
      "cell_type": "code",
      "source": [
        "Person.number_of_person"
      ],
      "metadata": {
        "colab": {
          "base_uri": "https://localhost:8080/"
        },
        "id": "aM4JybOBSgwz",
        "outputId": "bfe467b1-80ab-4f15-a2d4-43addf70ab90"
      },
      "execution_count": 63,
      "outputs": [
        {
          "output_type": "execute_result",
          "data": {
            "text/plain": [
              "3"
            ]
          },
          "metadata": {},
          "execution_count": 63
        }
      ]
    },
    {
      "cell_type": "markdown",
      "source": [
        "9.  Write a class Fraction with attributes numerator and denominator. Override the str method to display the\n",
        "fraction as \"numerator/denominator\""
      ],
      "metadata": {
        "id": "9ysPGddNUK0s"
      }
    },
    {
      "cell_type": "code",
      "source": [
        "class Fraction:\n",
        "    def __init__(self, numerator, denominator):\n",
        "        if denominator == 0:\n",
        "            print(\"Denominator cannot be zero.\")\n",
        "        self.numerator = numerator\n",
        "        self.denominator = denominator\n",
        "\n",
        "    def __str__(self):\n",
        "        return f\"{self.numerator}/{self.denominator}\"\n"
      ],
      "metadata": {
        "id": "Q1Mg--sRUrwy"
      },
      "execution_count": 64,
      "outputs": []
    },
    {
      "cell_type": "code",
      "source": [
        "f1= Fraction(2,5)\n",
        "print(f1)"
      ],
      "metadata": {
        "colab": {
          "base_uri": "https://localhost:8080/"
        },
        "id": "vrOmL94PVeUv",
        "outputId": "963e00b3-3791-4534-898e-1bf53bf7a15c"
      },
      "execution_count": 66,
      "outputs": [
        {
          "output_type": "stream",
          "name": "stdout",
          "text": [
            "2/5\n"
          ]
        }
      ]
    },
    {
      "cell_type": "markdown",
      "source": [
        " 10. Demonstrate operator overloading by creating a class Vector and overriding the add method to add two\n",
        "vectors."
      ],
      "metadata": {
        "id": "2LFIiGuVtZ6u"
      }
    },
    {
      "cell_type": "code",
      "source": [
        "class Vector:\n",
        "    def __init__(self, x, y):\n",
        "        self.x = x\n",
        "        self.y = y\n",
        "\n",
        "    def __add__(self, other):\n",
        "        if isinstance(other, Vector):\n",
        "            return Vector(self.x + other.x, self.y + other.y)\n",
        "        return NotImplemented\n",
        "\n",
        "    def __str__(self):\n",
        "        return f\"Vector({self.x}, {self.y})\"\n",
        "\n",
        "\n"
      ],
      "metadata": {
        "id": "zKbS9rMDtbLW"
      },
      "execution_count": 18,
      "outputs": []
    },
    {
      "cell_type": "code",
      "source": [
        "v1 = Vector(2, 3)\n",
        "v2 = Vector(4, 5)\n",
        "v3 = v1 + v2\n",
        "print(v3)"
      ],
      "metadata": {
        "colab": {
          "base_uri": "https://localhost:8080/"
        },
        "id": "erCzFhWOuzfP",
        "outputId": "6c85c3fa-e697-48dc-8890-233ce3d63e1a"
      },
      "execution_count": 19,
      "outputs": [
        {
          "output_type": "stream",
          "name": "stdout",
          "text": [
            "Vector(6, 8)\n"
          ]
        }
      ]
    },
    {
      "cell_type": "markdown",
      "source": [
        " 11. Create a class Person with attributes name and age. Add a method greet() that prints \"Hello, my name is\n",
        "{name} and I am {age} years old.\""
      ],
      "metadata": {
        "id": "TLU1qfe_0V9R"
      }
    },
    {
      "cell_type": "code",
      "source": [
        "class Person:\n",
        "  def __init__(self, name, age):\n",
        "    self.name = name\n",
        "    self.age = age\n",
        "\n",
        "  def greet(self):\n",
        "      print(f\"Hello,my name is {self.name} and I am {self.age} years old.\")\n",
        "\n"
      ],
      "metadata": {
        "id": "F51crVWN0Xr1"
      },
      "execution_count": 36,
      "outputs": []
    },
    {
      "cell_type": "code",
      "source": [
        "P1 = Person(\"Aishwarya\", 27)\n",
        "P1.greet()\n",
        "\n"
      ],
      "metadata": {
        "colab": {
          "base_uri": "https://localhost:8080/"
        },
        "id": "R2NU1wGv2AHZ",
        "outputId": "a5d4a331-da38-4b70-d3be-de5f4ef5cdc4"
      },
      "execution_count": 37,
      "outputs": [
        {
          "output_type": "stream",
          "name": "stdout",
          "text": [
            "Hello,my name is Aishwarya and I am 27 years old.\n"
          ]
        }
      ]
    },
    {
      "cell_type": "markdown",
      "source": [
        "12.  Implement a class Student with attributes name and grades. Create a method average_grade() to compute\n",
        "the average of the grades."
      ],
      "metadata": {
        "id": "KMxg4RFp8N9s"
      }
    },
    {
      "cell_type": "code",
      "source": [
        "\n",
        "class Student:\n",
        "    def __init__(self, name, grades):\n",
        "        self.name = name\n",
        "        self.grades = grades  # Expecting a list of numeric grades\n",
        "\n",
        "    def average_grade(self):\n",
        "        if not self.grades:\n",
        "            return 0  # Avoid division by zero\n",
        "        return sum(self.grades) / len(self.grades)\n"
      ],
      "metadata": {
        "id": "M_NRqVsG8WDq"
      },
      "execution_count": 52,
      "outputs": []
    },
    {
      "cell_type": "code",
      "source": [
        "S1 = Student(\"Aishwarya\",[90, 87, 79, 83])\n",
        "\n",
        "print(f\"{S1.name}'s average grade is: {S1.average_grade():.2f}\")"
      ],
      "metadata": {
        "colab": {
          "base_uri": "https://localhost:8080/"
        },
        "id": "6zrrfyZp-Zan",
        "outputId": "e84d4bec-36bc-4e56-925e-3a3e8dd03c56"
      },
      "execution_count": 53,
      "outputs": [
        {
          "output_type": "stream",
          "name": "stdout",
          "text": [
            "Aishwarya's average grade is: 84.75\n"
          ]
        }
      ]
    },
    {
      "cell_type": "markdown",
      "source": [
        " 13. Create a class Rectangle with methods set_dimensions() to set the dimensions and area() to calculate the\n",
        "area"
      ],
      "metadata": {
        "id": "ZrkOFYUBBAP7"
      }
    },
    {
      "cell_type": "code",
      "source": [
        "class Rectangle:\n",
        "  def __init__(self):\n",
        "    pass\n",
        "\n",
        "  def set_dimensions(self, length, width):\n",
        "    self.length = length\n",
        "    self.width = width\n",
        "\n",
        "  def area(self):\n",
        "      print(f\"Area of rectangle is {self.length * self.width}\")\n"
      ],
      "metadata": {
        "id": "XmSIsFNoBKBw"
      },
      "execution_count": 60,
      "outputs": []
    },
    {
      "cell_type": "code",
      "source": [
        "R1= Rectangle()\n",
        "R1.set_dimensions(4,6)\n",
        "R1.area()"
      ],
      "metadata": {
        "colab": {
          "base_uri": "https://localhost:8080/"
        },
        "id": "9syFC1c1Cc-d",
        "outputId": "71101d1a-7140-40b9-ac04-5b3912b401f0"
      },
      "execution_count": 61,
      "outputs": [
        {
          "output_type": "stream",
          "name": "stdout",
          "text": [
            "Area of rectangle is 24\n"
          ]
        }
      ]
    },
    {
      "cell_type": "markdown",
      "source": [
        " 14. Create a class Employee with a method calculate_salary() that computes the salary based on hours worked\n",
        "and hourly rate. Create a derived class Manager that adds a bonus to the salary"
      ],
      "metadata": {
        "id": "MiprVJczC9d4"
      }
    },
    {
      "cell_type": "code",
      "source": [
        "class Employee:\n",
        "  def __init__(self, name, hours_worked, hourly_rate):\n",
        "    self.name = name\n",
        "    self.hours_worked = hours_worked\n",
        "    self.hourly_rate = hourly_rate\n",
        "\n",
        "  def Calculate_salary(self):\n",
        "      salary = (self.hours_worked * self.hourly_rate)\n",
        "      return salary\n",
        "\n",
        "class Manager(Employee):\n",
        "  def __init__(self, name, hours_worked, hourly_rate, bonus):\n",
        "    self.name= name\n",
        "    self.hours_worked =  hours_worked\n",
        "    self.hourly_rate = hourly_rate\n",
        "    self.bonus = bonus\n",
        "\n",
        "  def Calculate_salary(self):\n",
        "    base_salary = super().Calculate_salary()\n",
        "    Total_Salary= (base_salary + self.bonus)\n",
        "    print(f\"Salary of {self.name} is {Total_Salary}\")\n",
        "\n"
      ],
      "metadata": {
        "id": "NL3gUf9dDYET"
      },
      "execution_count": 73,
      "outputs": []
    },
    {
      "cell_type": "code",
      "source": [
        "P1= Employee(\"Aishwarya\", 40, 500)\n",
        "P1.Calculate_salary()"
      ],
      "metadata": {
        "colab": {
          "base_uri": "https://localhost:8080/"
        },
        "id": "efJ2y1cmHcQE",
        "outputId": "4849ba4e-26ed-4e2f-8f40-60e3fefd9541"
      },
      "execution_count": 75,
      "outputs": [
        {
          "output_type": "execute_result",
          "data": {
            "text/plain": [
              "20000"
            ]
          },
          "metadata": {},
          "execution_count": 75
        }
      ]
    },
    {
      "cell_type": "code",
      "source": [
        "M1 = Manager(\"Ojas\", 40, 1500, 15000)\n",
        "M1.Calculate_salary()"
      ],
      "metadata": {
        "colab": {
          "base_uri": "https://localhost:8080/"
        },
        "id": "THFto53bIzQf",
        "outputId": "677628e5-6ff7-4ef4-ad35-8e99c4ff885d"
      },
      "execution_count": 77,
      "outputs": [
        {
          "output_type": "stream",
          "name": "stdout",
          "text": [
            "Salary of Ojas is 75000\n"
          ]
        }
      ]
    },
    {
      "cell_type": "markdown",
      "source": [
        "15. Create a class Product with attributes name, price, and quantity. Implement a method total_price() that\n",
        "calculates the total price of the product"
      ],
      "metadata": {
        "id": "qXYLoE3sLj3n"
      }
    },
    {
      "cell_type": "code",
      "source": [
        "class Product:\n",
        "  def __init__(self, name, price, quantity):\n",
        "    self.name = name\n",
        "    self.price = price\n",
        "    self.quantity = quantity\n",
        "\n",
        "  def Total_price(self):\n",
        "      total_price = (self.price * self.quantity)\n",
        "      print(f\"Total price of {self.name} is {total_price} Rs.\")\n",
        "\n"
      ],
      "metadata": {
        "id": "U4ENhuiJLrsr"
      },
      "execution_count": 90,
      "outputs": []
    },
    {
      "cell_type": "code",
      "source": [
        "P1 = Product( \"pen\",10,5)\n",
        "P1.Total_price()"
      ],
      "metadata": {
        "colab": {
          "base_uri": "https://localhost:8080/"
        },
        "id": "cQU6Sq0pNGKl",
        "outputId": "ef347fc5-09f8-48ea-9d15-cd335dbb19cd"
      },
      "execution_count": 91,
      "outputs": [
        {
          "output_type": "stream",
          "name": "stdout",
          "text": [
            "Total price of pen is 50 Rs.\n"
          ]
        }
      ]
    },
    {
      "cell_type": "markdown",
      "source": [
        " 16. Create a class Animal with an abstract method sound(). Create two derived classes Cow and Sheep that\n",
        "implement the sound() method."
      ],
      "metadata": {
        "id": "0fdcVmO4Osvx"
      }
    },
    {
      "cell_type": "code",
      "source": [
        "from abc import ABC, abstractmethod\n",
        "class Animal(ABC):\n",
        "  @abstractmethod\n",
        "  def make_sound(self):\n",
        "    pass\n",
        "\n",
        "class Cow(Animal):\n",
        "  def make_sound(self):\n",
        "    print(\"cow's sound\")\n",
        "\n",
        "class Sheep(Animal):\n",
        "  def make_sound(self):\n",
        "    print(\"Sheep's sound\")\n"
      ],
      "metadata": {
        "id": "kIvvuVSHOziP"
      },
      "execution_count": 94,
      "outputs": []
    },
    {
      "cell_type": "code",
      "source": [
        "C= Cow()\n",
        "C.make_sound()\n",
        "S= Sheep()\n",
        "S.make_sound()"
      ],
      "metadata": {
        "colab": {
          "base_uri": "https://localhost:8080/"
        },
        "id": "2lRVvD4TQU2-",
        "outputId": "661027c1-732f-4cb4-c4e3-ad077d7d0d11"
      },
      "execution_count": 96,
      "outputs": [
        {
          "output_type": "stream",
          "name": "stdout",
          "text": [
            "cow's sound\n",
            "Sheep's sound\n"
          ]
        }
      ]
    },
    {
      "cell_type": "markdown",
      "source": [
        " 17. Create a class Book with attributes title, author, and year_published. Add a method get_book_info() that\n",
        "returns a formatted string with the book's details"
      ],
      "metadata": {
        "id": "YMVQSFVBQwCe"
      }
    },
    {
      "cell_type": "code",
      "source": [
        "class Book:\n",
        "   def __init__( self, title, author, year_published):\n",
        "    self.title = title\n",
        "    self.author = author\n",
        "    self. year_published = year_published\n",
        "\n",
        "   def book_info(self):\n",
        "    print(f\"{self.title} by {self.author} published in year {self.year_published}\")\n"
      ],
      "metadata": {
        "id": "ipw_hKUsQ3mo"
      },
      "execution_count": 97,
      "outputs": []
    },
    {
      "cell_type": "code",
      "source": [
        "B = Book( \"Advanced Python Development\", \"Matthew Wilkes\" , 2020)\n",
        "B.book_info()"
      ],
      "metadata": {
        "colab": {
          "base_uri": "https://localhost:8080/"
        },
        "id": "sYdO7rjRSQRz",
        "outputId": "375a577e-9d4d-4846-e7a0-54af77592008"
      },
      "execution_count": 98,
      "outputs": [
        {
          "output_type": "stream",
          "name": "stdout",
          "text": [
            "Advanced Python Development by Matthew Wilkes published in year 2020\n"
          ]
        }
      ]
    },
    {
      "cell_type": "markdown",
      "source": [
        " 18. Create a class House with attributes address and price. Create a derived class Mansion that adds an\n",
        "attribute number_of_rooms"
      ],
      "metadata": {
        "id": "n6pVNTLrTKAX"
      }
    },
    {
      "cell_type": "code",
      "source": [
        "class House:\n",
        "  def __init__(self, address, price):\n",
        "    self.address = address\n",
        "    self.price = price\n",
        "    print(f\"This house is located at {self.address} and its price is {self.price} Cr.\")\n",
        "\n",
        "class Mansion(House):\n",
        "  def __init__(self, number_of_rooms):\n",
        "    self.number_of_rooms = number_of_rooms\n",
        "    print(f\"total {self.number_of_rooms} rooms in this house\")"
      ],
      "metadata": {
        "id": "znerQKK5TPrB"
      },
      "execution_count": 107,
      "outputs": []
    },
    {
      "cell_type": "code",
      "source": [
        "My_house = House(\"Gangotri Apartment, Yamuna nagar, Varali, Mumbai\", 2.3 )\n",
        "\n"
      ],
      "metadata": {
        "colab": {
          "base_uri": "https://localhost:8080/"
        },
        "id": "DBq73SYtWSMR",
        "outputId": "41a0fd62-917c-471b-f97c-5071bbb55c84"
      },
      "execution_count": 110,
      "outputs": [
        {
          "output_type": "stream",
          "name": "stdout",
          "text": [
            "This house is located at Gangotri Apartment, Yamuna nagar, Varali, Mumbai and its price is 2.3 Cr.\n"
          ]
        }
      ]
    },
    {
      "cell_type": "code",
      "source": [
        "My_details= Mansion(3)"
      ],
      "metadata": {
        "colab": {
          "base_uri": "https://localhost:8080/"
        },
        "id": "IM-_GLAmW8VX",
        "outputId": "e66c5726-2d37-4b42-86cb-9c149e8908cb"
      },
      "execution_count": 112,
      "outputs": [
        {
          "output_type": "stream",
          "name": "stdout",
          "text": [
            "total 3 rooms in this house\n"
          ]
        }
      ]
    }
  ]
}